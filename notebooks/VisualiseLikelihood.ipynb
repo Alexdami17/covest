{
 "cells": [
  {
   "cell_type": "code",
   "execution_count": 1,
   "metadata": {
    "collapsed": false
   },
   "outputs": [
    {
     "name": "stdout",
     "output_type": "stream",
     "text": [
      "Populating the interactive namespace from numpy and matplotlib\n"
     ]
    }
   ],
   "source": [
    "%pylab inline\n",
    "from ipywidgets import interact_manual"
   ]
  },
  {
   "cell_type": "code",
   "execution_count": 16,
   "metadata": {
    "collapsed": false
   },
   "outputs": [],
   "source": [
    "#fname = '../experiment3_1/simulated1_c4_e0.01_k21.dist'\n",
    "fname = '../data/histograms/e_c4_k21.hist'\n",
    "fname = '../data/histograms/simulated/simulated4_c50_e0.1_k21.dist'"
   ]
  },
  {
   "cell_type": "code",
   "execution_count": 17,
   "metadata": {
    "collapsed": false
   },
   "outputs": [],
   "source": [
    "import sys\n",
    "sys.path.append('..')\n",
    "from covest import *\n",
    "from models import *\n",
    "hist_orig, hist = load_hist(fname)"
   ]
  },
  {
   "cell_type": "code",
   "execution_count": 18,
   "metadata": {
    "collapsed": false
   },
   "outputs": [],
   "source": [
    "model = RepeatsModel(21, 100, hist)"
   ]
  },
  {
   "cell_type": "code",
   "execution_count": 19,
   "metadata": {
    "collapsed": false
   },
   "outputs": [
    {
     "data": {
      "text/plain": [
       "-11193969.134002237"
      ]
     },
     "execution_count": 19,
     "metadata": {},
     "output_type": "execute_result"
    }
   ],
   "source": [
    "model.compute_loglikelihood(10, 0.05, 0.9, 0.9, 0.9)"
   ]
  },
  {
   "cell_type": "code",
   "execution_count": 28,
   "metadata": {
    "collapsed": false
   },
   "outputs": [],
   "source": [
    "from functools import partial\n",
    "count = 10\n",
    "base_c = 35\n",
    "range_c = 20\n",
    "step_c = range_c/count\n",
    "base_e = 0.07\n",
    "range_e = 0.05\n",
    "step_e = range_e/count\n",
    "\n",
    "c_vals = arange(base_c - range_c, base_c + range_c, step_c)\n",
    "e_vals = arange(base_e - range_e, base_e + range_e, step_e)\n",
    "\n",
    "def compute_loglikelihood(payload, c, e):\n",
    "    q1, q2, q = payload\n",
    "    return model.compute_loglikelihood(c, e, q1, q2, q)\n",
    "\n",
    "\n",
    "def compute_ll_for_params(q1=0.9, q2=0.9, q=0.9):\n",
    "    likelihoods = model.compute_loglikelihood_multi([(c, e, q1, q2, q) for e in e_vals for c in c_vals])\n",
    "    f1 = array([\n",
    "        [likelihoods[(c, e, q1, q2, q)] for e in e_vals]\n",
    "        for c in c_vals\n",
    "    ])\n",
    "    f1[isinf(f1)] = NaN\n",
    "    return f1\n"
   ]
  },
  {
   "cell_type": "code",
   "execution_count": 26,
   "metadata": {
    "collapsed": false
   },
   "outputs": [],
   "source": [
    "def transform_for_visualisation(a):\n",
    "    min_val, max_val = nanmin(a), nanmax(a)\n",
    "    print(max_val)\n",
    "    def transform(x):\n",
    "        return log(1 - ((x - min_val) / (max_val - min_val + 1)))\n",
    "    vtransform = vectorize(transform)\n",
    "    return vtransform(a)"
   ]
  },
  {
   "cell_type": "code",
   "execution_count": 27,
   "metadata": {
    "collapsed": false
   },
   "outputs": [],
   "source": [
    "def draw_plot_for_q(q1=0.9, q2=0.9, q=0.9):\n",
    "    f1 = compute_ll_for_params(q1, q2, q)\n",
    "    ax = imshow(        \n",
    "        transform_for_visualisation(f1), interpolation='none', cmap = 'jet',\n",
    "        extent=[e_vals[0],e_vals[-1],c_vals[-1],c_vals[0]], aspect='auto',\n",
    "    )\n",
    "    colorbar(ax)\n",
    "    show()"
   ]
  },
  {
   "cell_type": "code",
   "execution_count": 24,
   "metadata": {
    "collapsed": false
   },
   "outputs": [
    {
     "name": "stdout",
     "output_type": "stream",
     "text": [
      "-9610624.80259\n"
     ]
    },
    {
     "name": "stderr",
     "output_type": "stream",
     "text": [
      "/home/michal/.virtualenvs/covest/lib/python3.5/site-packages/matplotlib/collections.py:571: FutureWarning: elementwise comparison failed; returning scalar instead, but in the future will perform elementwise comparison\n",
      "  if self._edgecolors == str('face'):\n"
     ]
    },
    {
     "data": {
      "image/png": "[encoded data removed]",
      "text/plain": [
       "<matplotlib.figure.Figure at 0x7f8cac02e860>"
      ]
     },
     "metadata": {},
     "output_type": "display_data"
    }
   ],
   "source": [
    "interact_manual(draw_plot_for_q, q1=(0.0, 1.0, .01), q2=(0.0, 1.0, 0.01), q=(0.0, 1.0, 0.01))"
   ]
  },
  {
   "cell_type": "raw",
   "metadata": {},
   "source": []
  }
 ],
 "metadata": {
  "kernelspec": {
   "display_name": "Python 3",
   "language": "python",
   "name": "python3"
  },
  "language_info": {
   "codemirror_mode": {
    "name": "ipython",
    "version": 3
   },
   "file_extension": ".py",
   "mimetype": "text/x-python",
   "name": "python",
   "nbconvert_exporter": "python",
   "pygments_lexer": "ipython3",
   "version": "3.5.0+"
  }
 },
 "nbformat": 4,
 "nbformat_minor": 0
}
